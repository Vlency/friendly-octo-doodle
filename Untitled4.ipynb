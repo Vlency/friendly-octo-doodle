{
  "nbformat": 4,
  "nbformat_minor": 0,
  "metadata": {
    "colab": {
      "provenance": [],
      "authorship_tag": "ABX9TyMfRqLA3ycTbtfZPmCkdkLL",
      "include_colab_link": true
    },
    "kernelspec": {
      "name": "python3",
      "display_name": "Python 3"
    },
    "language_info": {
      "name": "python"
    }
  },
  "cells": [
    {
      "cell_type": "markdown",
      "metadata": {
        "id": "view-in-github",
        "colab_type": "text"
      },
      "source": [
        "<a href=\"https://colab.research.google.com/github/Vlency/friendly-octo-doodle/blob/main/Untitled4.ipynb\" target=\"_parent\"><img src=\"https://colab.research.google.com/assets/colab-badge.svg\" alt=\"Open In Colab\"/></a>"
      ]
    },
    {
      "cell_type": "code",
      "source": [
        "import random\n",
        "import time"
      ],
      "metadata": {
        "id": "vlN1Kw0IpxA5"
      },
      "execution_count": 13,
      "outputs": []
    },
    {
      "cell_type": "code",
      "execution_count": 14,
      "metadata": {
        "id": "dFb679XQpGWv"
      },
      "outputs": [],
      "source": [
        "rock = 1\n",
        "paper = 2\n",
        "scissors = 3"
      ]
    },
    {
      "cell_type": "markdown",
      "source": [],
      "metadata": {
        "id": "kOVuzxYWvBvI"
      }
    },
    {
      "cell_type": "markdown",
      "source": [],
      "metadata": {
        "id": "wC10v9atvBiz"
      }
    },
    {
      "cell_type": "code",
      "source": [
        "names = { rock:\"Rock\", paper:\"Paper\", scissors:\"Scissors\" }\n",
        "rules = { rock: scissors, paper: rock, scissors: paper }\n",
        "\n",
        "player_score = 0\n",
        "computer_score = 0\n",
        "\n",
        "def start():\n",
        "    print(\"Let's play a game of Rock, Paper, Scissors. \")\n",
        "    while game():\n",
        "        pass\n",
        "    scores()\n",
        "\n",
        "def game():\n",
        "    player = move()\n",
        "    computer = random.randint(1, 3)\n",
        "    result(player, computer)\n",
        "    return play_again()\n",
        "\n",
        "def move():\n",
        "  while True:\n",
        "      print()\n",
        "      player = input( \"Rock = 1/nPaper = 2/nScissor = 3/nMake = move: \" )\n",
        "      try:\n",
        "        player = int(player)\n",
        "        if player in (1,2,3):\n",
        "          return player\n",
        "      except ValueError:\n",
        "        pass\n",
        "      print( \"Oops! I didn't understand that. Please enter 1, 2 or 3. \" )\n",
        "\n",
        "def result(player, computer):\n",
        "    print( \"1...\" )\n",
        "    time.sleep(1)\n",
        "    print( \"2...\" )\n",
        "    time.sleep(1)\n",
        "    print( \"3!\" )\n",
        "    time.sleep(0.5)\n",
        "    print(\"Computer threw {0}!\". format (names[computer]))\n",
        "    global player_score, computer_score\n",
        "    if player == computer:\n",
        "        print( \"Tie game\" )\n",
        "    else:\n",
        "        if rules[player] == computer:\n",
        "           print( \"Your victory has been ensured.\" )\n",
        "           player_score += 1\n",
        "        else:\n",
        "           print( \"The computer laughs as you realise you have been defeated.\" )\n",
        "           computer_score += 1\n",
        "\n",
        "def play_again():\n",
        "    answer = input( \"Would you like to pay again? y/n: \" )\n",
        "    if answer in ( \"y\", \"Y\", \"yes\", \"Yes\", \"of course!\" ):\n",
        "        return answer\n",
        "    else:\n",
        "        print( \"Thank you very much for playing our game. See you next time!\" )\n",
        "\n",
        "\n",
        "def scores():\n",
        "    global player_score, computer_score\n",
        "    print( \"HIGH SCORES\" )\n",
        "    print( \"Player:, player_score\" )\n",
        "    print( \"Computer:, computer_score\" )\n",
        "if __name__ == '__main__':\n",
        "     start()"
      ],
      "metadata": {
        "colab": {
          "base_uri": "https://localhost:8080/"
        },
        "id": "E2Ce6F4EqvqP",
        "outputId": "64cdca95-da5a-418f-c1a2-70cb3e12f9d4"
      },
      "execution_count": null,
      "outputs": [
        {
          "output_type": "stream",
          "name": "stdout",
          "text": [
            "Let's play a game of Rock, Paper, Scissors. \n",
            "\n",
            "Rock = 1/nPaper = 2/nScissor = 3/nMake = move: 2\n",
            "1...\n",
            "2...\n",
            "3!\n",
            "Computer threw Paper!\n",
            "Tie game\n",
            "Would you like to pay again? y/n: yes\n",
            "\n"
          ]
        }
      ]
    },
    {
      "cell_type": "markdown",
      "source": [],
      "metadata": {
        "id": "tA8iwMOCrrD9"
      }
    },
    {
      "cell_type": "code",
      "source": [],
      "metadata": {
        "id": "EFnujxIkrqVg"
      },
      "execution_count": null,
      "outputs": []
    }
  ]
}