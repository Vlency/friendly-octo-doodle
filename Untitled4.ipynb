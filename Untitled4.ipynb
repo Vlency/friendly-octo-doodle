{
  "nbformat": 4,
  "nbformat_minor": 0,
  "metadata": {
    "colab": {
      "provenance": [],
      "authorship_tag": "ABX9TyNXbsK/4FMdpl6Z5cDkiuxC",
      "include_colab_link": true
    },
    "kernelspec": {
      "name": "python3",
      "display_name": "Python 3"
    },
    "language_info": {
      "name": "python"
    }
  },
  "cells": [
    {
      "cell_type": "markdown",
      "metadata": {
        "id": "view-in-github",
        "colab_type": "text"
      },
      "source": [
        "<a href=\"https://colab.research.google.com/github/Vlency/friendly-octo-doodle/blob/main/Untitled4.ipynb\" target=\"_parent\"><img src=\"https://colab.research.google.com/assets/colab-badge.svg\" alt=\"Open In Colab\"/></a>"
      ]
    },
    {
      "cell_type": "code",
      "source": [
        "import random\n",
        "import time"
      ],
      "metadata": {
        "id": "vlN1Kw0IpxA5"
      },
      "execution_count": 9,
      "outputs": []
    },
    {
      "cell_type": "code",
      "execution_count": 10,
      "metadata": {
        "id": "dFb679XQpGWv"
      },
      "outputs": [],
      "source": [
        "rock = 1\n",
        "paper = 2\n",
        "scissors = 3"
      ]
    },
    {
      "cell_type": "markdown",
      "source": [],
      "metadata": {
        "id": "kOVuzxYWvBvI"
      }
    },
    {
      "cell_type": "markdown",
      "source": [],
      "metadata": {
        "id": "wC10v9atvBiz"
      }
    },
    {
      "cell_type": "code",
      "source": [
        "names = { rock:\"Rock\", paper:\"Paper\", scissors:\"Scissors\" }\n",
        "rules = { rock: scissors, paper: rock, scissors: paper }\n",
        "\n",
        "player_scors = 0\n",
        "computer_score = 0\n",
        "\n",
        "def start():\n",
        "    print(\"Let's play a game of Rock, Paper, Scissors. \")\n",
        "    while game():\n",
        "        pass\n",
        "    scores()\n",
        "\n",
        "def game():\n",
        "    player = move()\n",
        "    computer = random.randint(1, 3)\n",
        "    result(player, computer)\n",
        "    return play_again()\n",
        "\n",
        "def move():\n",
        "  while True:\n",
        "      print()\n",
        "      player = raw_input( \"Rock = 1/nPaper = 2/nScissor = 3/nMake = move: \" )\n",
        "      try:\n",
        "        player = int(player)\n",
        "        if player in (1,2,3):\n",
        "          return player\n",
        "      except ValueError:\n",
        "        pass\n",
        "      print( \"Oops! I didn't understand that. Please enter 1, 2 or 3. \" )\n",
        "\n",
        "def result(player, computer):\n",
        "    print( \"1...\" )\n",
        "    time.sleep(1)\n",
        "    print( \"2...\" )\n",
        "    time.sleep(1)\n",
        "    print( \"3!\" )\n",
        "    time.sleep(0.5)\n",
        "    print(\"Computer threw {0}!\". format (names[computer]))\n",
        "    global player_score, computer_score\n",
        "    if player == computer:\n",
        "        print( \"Tie game.\" )\n",
        "    else:\n",
        "        if rules[player] == computer:\n",
        "            print( \"Your victory has been ensured.\" )\n",
        "            player_score += 1\n",
        "\n",
        "\n",
        "\n",
        "\n",
        "\n"
      ],
      "metadata": {
        "id": "E2Ce6F4EqvqP"
      },
      "execution_count": 11,
      "outputs": []
    },
    {
      "cell_type": "markdown",
      "source": [],
      "metadata": {
        "id": "tA8iwMOCrrD9"
      }
    },
    {
      "cell_type": "code",
      "source": [],
      "metadata": {
        "id": "EFnujxIkrqVg"
      },
      "execution_count": null,
      "outputs": []
    }
  ]
}